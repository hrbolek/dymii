{
  "nbformat": 4,
  "nbformat_minor": 0,
  "metadata": {
    "colab": {
      "name": "introduction.latex.ipynb",
      "provenance": [],
      "collapsed_sections": [],
      "toc_visible": true,
      "include_colab_link": true
    },
    "kernelspec": {
      "name": "python3",
      "display_name": "Python 3"
    }
  },
  "cells": [
    {
      "cell_type": "markdown",
      "metadata": {
        "id": "view-in-github",
        "colab_type": "text"
      },
      "source": [
        "<a href=\"https://colab.research.google.com/github/hrbolek/dymii/blob/master/introduction_latex.ipynb\" target=\"_parent\"><img src=\"https://colab.research.google.com/assets/colab-badge.svg\" alt=\"Open In Colab\"/></a>"
      ]
    },
    {
      "cell_type": "markdown",
      "metadata": {
        "colab_type": "text",
        "id": "t6U3faO3Yx9A"
      },
      "source": [
        "# Úvod do Jupyteru (LaTEX) "
      ]
    },
    {
      "cell_type": "markdown",
      "metadata": {
        "colab_type": "text",
        "id": "GPebAajEYyoZ"
      },
      "source": [
        "## Převzato z \n",
        "https://www.math.ubc.ca/~pwalls/math-python/jupyter/latex/\n",
        "\n",
        "https://towardsdatascience.com/markdown-cells-jupyter-notebook-d3bea8416671\n",
        "\n",
        "https://www.datacamp.com/community/tutorials/tutorial-jupyter-notebook\n",
        "\n",
        "https://en.wikibooks.org/wiki/LaTeX/Mathematics\n"
      ]
    },
    {
      "cell_type": "markdown",
      "metadata": {
        "id": "uirHtbTGoF8J",
        "colab_type": "text"
      },
      "source": [
        "## Rovnice\n",
        "```\n",
        "$$c = \\sqrt{a^2 + b^2}$$\n",
        "```\n",
        "$$c = \\sqrt{a^2 + b^2}$$\n"
      ]
    },
    {
      "cell_type": "markdown",
      "metadata": {
        "id": "axQkc1NvoChP",
        "colab_type": "text"
      },
      "source": [
        "## Řecká písmena\n",
        "```$$\\gamma, \\omega, \\Gamma, \\Omega$$```\n",
        "$$\\gamma, \\omega, \\Gamma, \\Omega$$\n"
      ]
    },
    {
      "cell_type": "markdown",
      "metadata": {
        "id": "mFCA7bF-n8iv",
        "colab_type": "text"
      },
      "source": [
        "## Dolní index\n",
        "```$$v_k=v_{k-1}+t$$```\n",
        "$$v_k=v_{k-1}+t$$\n"
      ]
    },
    {
      "cell_type": "markdown",
      "metadata": {
        "id": "QpAyW5rEn0tw",
        "colab_type": "text"
      },
      "source": [
        "## Mocnina a odmocnina\n",
        "```$$v^k=vv^{k-1}$$```\n",
        "$$v^k=vv^{k-1}$$\n",
        "```$$e^{i\\pi} + 1 = 0$$```\n",
        "$$e^{i\\pi} + 1 = 0$$\n",
        "```$$\\sqrt{a}$$```\n",
        "$$\\sqrt{a}$$\n",
        "```$$\\sqrt[b]{a}$$```\n",
        "$$\\sqrt[b]{a}$$\n"
      ]
    },
    {
      "cell_type": "markdown",
      "metadata": {
        "id": "W35h_CYjnu2k",
        "colab_type": "text"
      },
      "source": [
        "## Operátory\n",
        "```$$A = B \\times C$$```\n",
        "$$A = B \\times C$$\n",
        "```$$s = v \\cdot t$$```\n",
        "$$s = v \\cdot t$$\n"
      ]
    },
    {
      "cell_type": "markdown",
      "metadata": {
        "id": "DbNAYj91nqnZ",
        "colab_type": "text"
      },
      "source": [
        "## Zlomky\n",
        "```$$v=\\frac{s}{t}$$```\n",
        "$$v=\\frac{s}{t}$$\n",
        "```$$\\frac{\\frac{1}{x}+\\frac{1}{y}}{y-z}$$```\n",
        "$$\\frac{\\frac{1}{x}+\\frac{1}{y}}{y-z}$$\n",
        "```$$\\frac{n!}{k!(n-k)!} = \\binom{n}{k}$$```\n",
        "$$\\frac{n!}{k!(n-k)!} = \\binom{n}{k}$$\n"
      ]
    },
    {
      "cell_type": "markdown",
      "metadata": {
        "id": "PxmJSoU2nll_",
        "colab_type": "text"
      },
      "source": [
        "## Integrál a další symboly\n",
        "```$$e^x=\\sum_{i=0}^\\infty \\frac{1}{i!}x^i$$```\n",
        "$$e^x=\\sum_{i=0}^\\infty \\frac{1}{i!}x^i$$\n",
        "```$$\\int_a^b f(x) = F(b) - F(a)$$```\n",
        "$$\\int_a^b f(x) = F(b) - F(a)$$\n",
        "```$$f'(a) = \\lim_{x \\to a} \\frac{f(x) - f(a)}{x-a}$$```\n",
        "$$f'(a) = \\lim_{x \\to a} \\frac{f(x) - f(a)}{x-a}$$\n"
      ]
    },
    {
      "cell_type": "markdown",
      "metadata": {
        "id": "iu6eJDGErvrf",
        "colab_type": "text"
      },
      "source": [
        "## Derivace\n",
        "```$$\\dot v = s$$```\n",
        "$$\\dot v = s$$\n",
        "```\n",
        "$$\\ddot a = s$$\n",
        "```\n",
        "$$\\ddot a = s$$"
      ]
    },
    {
      "cell_type": "markdown",
      "metadata": {
        "id": "Qfai43KUnYWX",
        "colab_type": "text"
      },
      "source": [
        "## Matice\n",
        "```\n",
        "$$\\begin{pmatrix} a & b \\\\ c & d \\end{pmatrix}$$\n",
        "```\n",
        "$$\\begin{pmatrix} a & b \\\\ c & d \\end{pmatrix}$$\n",
        "```\n",
        "$$\\begin{bmatrix} 1 & 2 & 1 \\\\ 3 & 0 & 1 \\\\ 0 & 2 & 4 \\end{bmatrix}$$\n",
        "```\n",
        "$$\\begin{bmatrix} 1 & 2 & 1 \\\\ 3 & 0 & 1 \\\\ 0 & 2 & 4 \\end{bmatrix}$$\n"
      ]
    },
    {
      "cell_type": "markdown",
      "metadata": {
        "id": "_dwhe1pLnT4r",
        "colab_type": "text"
      },
      "source": [
        "## Specialitky\n",
        "```$$\\forall x \\in Xn$$```\n",
        "$$\\forall x \\in X$$\n",
        "```$$\\exists y \\leq \\epsilon$$```\n",
        "$$\\exists y \\leq \\epsilon$$\n"
      ]
    },
    {
      "cell_type": "markdown",
      "metadata": {
        "id": "xhBHN3gAptiA",
        "colab_type": "text"
      },
      "source": [
        "## Rovnice v textu\n",
        "Rychlost $v$ je vyjádřením dráhy $s$ za čas $t$, odtud vzorec pro výpočet rychlosti $v=s/t$. Jednotkou rychlosti je $[m/s]$ nebo též $[m\\cdot s^{-1}]$."
      ]
    },
    {
      "cell_type": "markdown",
      "metadata": {
        "id": "IaA6poDxx0WD",
        "colab_type": "text"
      },
      "source": [
        "## Další zdroje\n",
        "https://oeis.org/wiki/List_of_LaTeX_mathematical_symbols"
      ]
    }
  ]
}